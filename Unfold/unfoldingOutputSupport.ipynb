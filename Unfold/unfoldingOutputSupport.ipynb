{
 "cells": [
  {
   "cell_type": "markdown",
   "metadata": {},
   "source": [
    "## HEPROW/UMG Post-Processing Tools\n",
    "\n",
    "Tools to rip and plot modeled and unfolded neutron spectra.\n",
    "\n",
    "First, import required modules and functions:"
   ]
  },
  {
   "cell_type": "code",
   "execution_count": 1,
   "metadata": {
    "collapsed": false
   },
   "outputs": [],
   "source": [
    "import matplotlib.pyplot as plt\n",
    "import numpy as np\n",
    "import sys\n",
    "import os\n",
    "\n",
    "from matplotlib.ticker import MultipleLocator\n",
    "\n",
    "# Path to support scripts \n",
    "sys.path.insert(0,os.path.abspath('/home/pyne-user/Dropbox/UCB/Computational_Tools/Scripts/Python/DataSupport'))\n",
    "sys.path.insert(0,os.path.abspath('/home/pyne-user/Dropbox/UCB/Computational_Tools/Scripts/Python/Plotting'))\n",
    "\n",
    "from DataManipulation import binIntegration, normAUBC\n",
    "from DataIO import readDelimitedDataFile\n",
    "from Plotting import Histogram"
   ]
  },
  {
   "cell_type": "markdown",
   "metadata": {},
   "source": [
    "### User Inputs\n",
    "#### Specify the file locations and type of data\n",
    "\n",
    "\n",
    "HEPROW Unfolded spectrum:"
   ]
  },
  {
   "cell_type": "code",
   "execution_count": 2,
   "metadata": {
    "collapsed": true
   },
   "outputs": [],
   "source": [
    "heprowPath=\"/home/pyne-user/Dropbox/UCB/Research/ETAs/88Inch/Unfolding/Experiments/PHS/16MeVBe/Unfold/\"\n",
    "\n",
    "#heprowName=\"m16d_grv_out.flu\"\n",
    "#outName=\"m16d_mik_out.flu\"\n",
    "#heprowBinBounds=\"mid\"\n",
    "#heprowHeaderLines=3\n",
    "\n",
    "heprowName=\"HEPROW/mik_50.gru\"\n",
    "heprowBinBounds=\"low\"\n",
    "heprowHeaderLines=3\n",
    "heprowDataStop=\" *********format(16i5)*********\""
   ]
  },
  {
   "cell_type": "markdown",
   "metadata": {},
   "source": [
    "NSD Unfolded Spectrum:"
   ]
  },
  {
   "cell_type": "code",
   "execution_count": 3,
   "metadata": {
    "collapsed": false
   },
   "outputs": [],
   "source": [
    "nsdPath=\"/home/pyne-user/Dropbox/UCB/Research/ETAs/88Inch/Unfolding/Experiments/PHS/16MeVBe/Unfold/\"\n",
    "\n",
    "nsdName=\"NSD16MeVSpectrum_50.txt\"\n",
    "nsdBinBounds=\"mid\"\n",
    "nsdHeaderLines=0"
   ]
  },
  {
   "cell_type": "markdown",
   "metadata": {},
   "source": [
    "Simulated Spectrum:"
   ]
  },
  {
   "cell_type": "code",
   "execution_count": 4,
   "metadata": {
    "collapsed": true
   },
   "outputs": [],
   "source": [
    "simPath=\"/home/pyne-user/Dropbox/UCB/Research/ETAs/88Inch/Unfolding/Experiments/PHS/16MeVBe/Unfold/\"\n",
    "\n",
    "simName=\"inputSpectrum_50.txt\"\n",
    "simBinBounds=\"mid\"\n",
    "simHeaderLines=0"
   ]
  },
  {
   "cell_type": "markdown",
   "metadata": {},
   "source": [
    "Lone's Spectrum"
   ]
  },
  {
   "cell_type": "code",
   "execution_count": 5,
   "metadata": {
    "collapsed": true
   },
   "outputs": [],
   "source": [
    "lonePath=\"/home/pyne-user/Dropbox/UCB/Research/ETAs/88Inch/Unfolding/Experiments/PHS/16MeVBe/Unfold/\"\n",
    "\n",
    "loneName=\"Lone_50.txt\"\n",
    "loneBinBounds=\"low\"\n",
    "loneHeaderLines=0"
   ]
  },
  {
   "cell_type": "markdown",
   "metadata": {},
   "source": [
    "### Read in and Manipulate Data\n",
    "\n",
    "Convert Each Data Set to a Probability Density Function (PDF)"
   ]
  },
  {
   "cell_type": "code",
   "execution_count": 6,
   "metadata": {
    "collapsed": false
   },
   "outputs": [],
   "source": [
    "# HEPROW\n",
    "heprowData=readDelimitedDataFile(heprowPath+heprowName,header=heprowHeaderLines,breakText=heprowDataStop)\n",
    "\n",
    "# Calculate the relative uncertainty\n",
    "heprowData[2]=(np.asarray(heprowData[2])/np.asarray(heprowData[1])).tolist()\n",
    "\n",
    "# Convert the unfolded spectrum to flux and normalize\n",
    "heprowData[1]=binIntegration(heprowData[0],heprowData[1],edgeLoc=heprowBinBounds)\n",
    "heprowData[1]=normAUBC(heprowData[1])\n",
    "\n",
    "# Calculate the absolute error\n",
    "heprowData[2]=(np.asarray(heprowData[2])*np.asarray(heprowData[1])).tolist()\n",
    "\n",
    "# Build up histogram data\n",
    "heprowHisto=Histogram()\n",
    "heprowHisto.buildHisto(heprowData[0],heprowData[1],uncert=heprowData[2],edgeLoc=heprowBinBounds)\n",
    "#print str(heprowHisto)"
   ]
  },
  {
   "cell_type": "code",
   "execution_count": 7,
   "metadata": {
    "collapsed": false
   },
   "outputs": [],
   "source": [
    "# NSD Unfolding Algorithm\n",
    "nsdData=readDelimitedDataFile(nsdPath+nsdName,header=nsdHeaderLines)\n",
    "\n",
    "# Normalize the unfolded spectrum\n",
    "nsdData[1]=normAUBC(nsdData[1])\n",
    "\n",
    "# Build up histogram data\n",
    "nsdHisto=Histogram()\n",
    "nsdHisto.buildHisto(nsdData[0],nsdData[1],edgeLoc=nsdBinBounds)"
   ]
  },
  {
   "cell_type": "code",
   "execution_count": 8,
   "metadata": {
    "collapsed": false
   },
   "outputs": [],
   "source": [
    "# The simulated expected spectrum\n",
    "simData=readDelimitedDataFile(simPath+simName,header=simHeaderLines)\n",
    "\n",
    "# Convert the unfolded spectrum to flux and normalize\n",
    "simData[1]=normAUBC(simData[1])\n",
    "\n",
    "# Build up histogram data\n",
    "simHisto=Histogram()\n",
    "simHisto.buildHisto(simData[0],simData[1],edgeLoc=simBinBounds)"
   ]
  },
  {
   "cell_type": "code",
   "execution_count": 9,
   "metadata": {
    "collapsed": false
   },
   "outputs": [],
   "source": [
    "# Lone's spectrum\n",
    "loneData=readDelimitedDataFile(lonePath+loneName,header=loneHeaderLines)\n",
    "\n",
    "# Convert the unfolded spectrum to flux and normalize\n",
    "loneData[1]=binIntegration(loneData[0],loneData[1],edgeLoc=loneBinBounds)\n",
    "loneData[1]=normAUBC(loneData[1])\n",
    "\n",
    "# Build up histogram data\n",
    "loneHisto=Histogram()\n",
    "loneHisto.buildHisto(loneData[0],loneData[1],edgeLoc=loneBinBounds)"
   ]
  },
  {
   "cell_type": "markdown",
   "metadata": {},
   "source": [
    "### Plot"
   ]
  },
  {
   "cell_type": "code",
   "execution_count": 10,
   "metadata": {
    "collapsed": false
   },
   "outputs": [
    {
     "name": "stderr",
     "output_type": "stream",
     "text": [
      "/usr/lib/pymodules/python2.7/matplotlib/collections.py:548: FutureWarning: elementwise comparison failed; returning scalar instead, but in the future will perform elementwise comparison\n",
      "  if self._edgecolors == 'face':\n"
     ]
    }
   ],
   "source": [
    "# Allow use of Tex sybols\n",
    "plt.rc('text', usetex=True)\n",
    "\n",
    "# Set up figure\n",
    "fig = plt.figure()\n",
    "#ax1 = fig.add_subplot(111)\n",
    "ax1 = fig.add_axes([0.1, 0.1, 0.8, 0.85])\n",
    "\n",
    "# Preset data set format scheme\n",
    "s=10\n",
    "linewidth=['2.5']\n",
    "marker=['.','o','v','^','<','>','1','2','3','4','8','s','p','*','h','H','+','x','d','D']\n",
    "linestyle=['-','--',':','-.']\n",
    "dashes=[[10, 0.1],[10, 5, 10, 5],[10,2.5,1,2.5]]\n",
    "minorLocator = MultipleLocator(1)\n",
    "\n",
    "# Set Line color cycle\n",
    "ax1.set_color_cycle(['k', 'k', 'k', 'k'])\n",
    "\n",
    "# Set axes\n",
    "ax1.axis([0, 20, 0, 1.5*max(heprowHisto.yValues)])\n",
    "#ax1.set_xscale('log')\n",
    "#ax1.set_yscale('log')\n",
    "\n",
    "# Set axes labels and plot title.\n",
    "ax1.set_title('\\\\textbf{16MeV D Breakup on Be - Smeared Simulation}', fontsize=18, weight=\"bold\")    \n",
    "ax1.set_xlabel('\\\\textbf{Energy [MeV]}', fontsize=18, weight=\"bold\")\n",
    "ax1.set_ylabel('\\\\textbf{Neutron PDF}', fontsize=18, weight=\"bold\")\n",
    "ax1.tick_params(axis='both', which='major', labelsize=18, width=2)\n",
    "ax1.tick_params(axis='both', which='minor', width=2)\n",
    "ax1.xaxis.set_minor_locator(minorLocator)\n",
    "\n",
    "# Add data set to plot\n",
    "ax1.errorbar(heprowHisto.midPtX, heprowHisto.midPtY, yerr=heprowHisto.sigma, marker=None, linestyle='None')\n",
    "ax1.plot(heprowHisto.xEdges, heprowHisto.yValues, linewidth=linewidth[0], linestyle=linestyle[0], \n",
    "         marker=None,label=\"HEPROW Unfolded\", dashes=dashes[0]) \n",
    "ax1.plot(nsdHisto.xEdges, nsdHisto.yValues, linewidth=linewidth[0], linestyle=linestyle[1], \n",
    "         marker=None,label=\"NSD Unfolded\", dashes=dashes[1]) \n",
    "ax1.plot(simHisto.xEdges, simHisto.yValues, linewidth=linewidth[0], linestyle=linestyle[2], \n",
    "         label=\"Meulders\") \n",
    "ax1.plot(loneHisto.xEdges, loneHisto.yValues, linewidth=linewidth[0], linestyle=linestyle[3], \n",
    "         label=\"Lone\", dashes=dashes[2]) \n",
    "\n",
    "\n",
    "# Add and locate legend\n",
    "leg = ax1.legend()\n",
    "plt.legend(borderaxespad=0.75, loc=1, fontsize=16, handlelength=5, borderpad=0.5,\\\n",
    "            labelspacing=0.75, fancybox=True, framealpha=0.5, numpoints=1);\n",
    "\n",
    "plt.show()"
   ]
  },
  {
   "cell_type": "code",
   "execution_count": 11,
   "metadata": {
    "collapsed": true
   },
   "outputs": [],
   "source": [
    "# Save the figure\n",
    "fig.savefig(heprowPath+'Histo3_Stat_100_PHS_05_smearedResp_05_50_results.png', bbox_inches='tight')"
   ]
  },
  {
   "cell_type": "code",
   "execution_count": null,
   "metadata": {
    "collapsed": true
   },
   "outputs": [],
   "source": []
  }
 ],
 "metadata": {
  "kernelspec": {
   "display_name": "Python 2",
   "language": "python",
   "name": "python2"
  },
  "language_info": {
   "codemirror_mode": {
    "name": "ipython",
    "version": 2
   },
   "file_extension": ".py",
   "mimetype": "text/x-python",
   "name": "python",
   "nbconvert_exporter": "python",
   "pygments_lexer": "ipython2",
   "version": "2.7.6"
  }
 },
 "nbformat": 4,
 "nbformat_minor": 0
}
